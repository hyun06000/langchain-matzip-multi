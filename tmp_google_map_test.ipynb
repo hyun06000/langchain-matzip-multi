{
 "cells": [
  {
   "cell_type": "code",
   "execution_count": 1,
   "metadata": {},
   "outputs": [],
   "source": [
    "import os\n",
    "import subprocess"
   ]
  },
  {
   "cell_type": "code",
   "execution_count": 2,
   "metadata": {},
   "outputs": [
    {
     "data": {
      "text/plain": [
       "True"
      ]
     },
     "execution_count": 2,
     "metadata": {},
     "output_type": "execute_result"
    }
   ],
   "source": [
    "from dotenv import load_dotenv\n",
    "load_dotenv()"
   ]
  },
  {
   "cell_type": "code",
   "execution_count": 32,
   "metadata": {},
   "outputs": [
    {
     "data": {
      "text/plain": [
       "'{\\n  \"places\": [\\n    {\\n      \"formattedAddress\": \"11 Sapyeong-daero 14-gil, Seocho-gu, Seoul, South Korea\",\\n      \"rating\": 4.2,\\n      \"userRatingCount\": 183,\\n      \"displayName\": {\\n        \"text\": \"Pasta for Four\",\\n        \"languageCode\": \"en\"\\n      }\\n    },\\n    {\\n      \"formattedAddress\": \"South Korea, Seoul, Seocho-gu, 방배본동 790-27\",\\n      \"rating\": 4.3,\\n      \"userRatingCount\": 125,\\n      \"displayName\": {\\n        \"text\": \"따올라이\",\\n        \"languageCode\": \"ko\"\\n      }\\n    },\\n    {\\n      \"formattedAddress\": \"South Korea, Seoul, Seocho-gu, 반포4동 95-7\",\\n      \"rating\": 4.3,\\n      \"priceLevel\": \"PRICE_LEVEL_MODERATE\",\\n      \"userRatingCount\": 262,\\n      \"displayName\": {\\n        \"text\": \"육갑식당 서래마을직영점\",\\n        \"languageCode\": \"ko\"\\n      }\\n    },\\n    {\\n      \"formattedAddress\": \"South Korea, Seoul, Seocho-gu, Donggwang-ro 3-gil, 91 102호\",\\n      \"rating\": 4.7,\\n      \"userRatingCount\": 3,\\n      \"displayName\": {\\n        \"text\": \"도스타코스 방배점\",\\n        \"languageCode\": \"ko\"\\n      }\\n    },\\n    {\\n      \"formattedAddress\": \"48 Seocho-daero 15-gil, Seocho-gu, Seoul, South Korea\",\\n      \"rating\": 4.1,\\n      \"userRatingCount\": 21,\\n      \"displayName\": {\\n        \"text\": \"호산숯불갈비\",\\n        \"languageCode\": \"ko\"\\n      }\\n    }\\n  ]\\n}\\n'"
      ]
     },
     "execution_count": 32,
     "metadata": {},
     "output_type": "execute_result"
    }
   ],
   "source": [
    "text_query = \"트릿지 주변 맛집\"\n",
    "\n",
    "GOOGLE_API_KEY = os.environ['GOOGLE_API_KEY']\n",
    "feild_mask = \",\".join(\n",
    "    [\n",
    "        \"places.displayName\",\n",
    "        \"places.formattedAddress\",\n",
    "        \"places.priceLevel\",\n",
    "        \"places.rating\",\n",
    "        \"places.userRatingCount\",\n",
    "        \n",
    "    ]\n",
    ")\n",
    "\n",
    "command = (\n",
    "    f\"\"\"curl -X POST -d '{{\"textQuery\" : \"{text_query}\", \"minRating\": 4.0, \"openNow\": true, \"maxResultCount\": 5}}' \"\"\"\n",
    "    f\"\"\"-H 'Content-Type: application/json' \"\"\"\n",
    "    f\"\"\"-H 'X-Goog-Api-Key: {GOOGLE_API_KEY}' \"\"\"\n",
    "    f\"\"\"-H 'X-Goog-FieldMask: {feild_mask}' \"\"\"\n",
    "    \"\"\"'https://places.googleapis.com/v1/places:searchText'\"\"\"\n",
    ")\n",
    "\n",
    "process = subprocess.Popen(\n",
    "            [f\"\"\"{command}\"\"\"],\n",
    "            stdout=subprocess.PIPE,\n",
    "            stderr=subprocess.PIPE,\n",
    "            shell=True,\n",
    "        )\n",
    "stdout = process.stdout.read().decode(\"UTF-8\")\n",
    "stdout"
   ]
  },
  {
   "cell_type": "code",
   "execution_count": null,
   "metadata": {},
   "outputs": [],
   "source": [
    "'{\\n  \"places\": [\\n    {\\n      \"formattedAddress\": \"11 Sapyeong-daero 14-gil, Seocho-gu, Seoul, South Korea\",\\n      \"rating\": 4.2,\\n      \"userRatingCount\": 183,\\n      \"displayName\": {\\n        \"text\": \"Pasta for Four\",\\n        \"languageCode\": \"en\"\\n      }\\n    },\\n    {\\n      \"formattedAddress\": \"South Korea, Seoul, Seocho-gu, 방배본동 790-27\",\\n      \"rating\": 4.3,\\n      \"userRatingCount\": 125,\\n      \"displayName\": {\\n        \"text\": \"따올라이\",\\n        \"languageCode\": \"ko\"\\n      }\\n    },\\n    {\\n      \"formattedAddress\": \"South Korea, Seoul, Seocho-gu, 반포4동 95-7\",\\n      \"rating\": 4.3,\\n      \"priceLevel\": \"PRICE_LEVEL_MODERATE\",\\n      \"userRatingCount\": 262,\\n      \"displayName\": {\\n        \"text\": \"육갑식당 서래마을직영점\",\\n        \"languageCode\": \"ko\"\\n      }\\n    },\\n    {\\n      \"formattedAddress\": \"South Korea, Seoul, Seocho-gu, Donggwang-ro 3-gil, 91 102호\",\\n      \"rating\": 4.7,\\n      \"userRatingCount\": 3,\\n      \"displayName\": {\\n        \"text\": \"도스타코스 방배점\",\\n        \"languageCode\": \"ko\"\\n      }\\n    },\\n    {\\n      \"formattedAddress\": \"48 Seocho-daero 15-gil, Seocho-gu, Seoul, South Korea\",\\n      \"rating\": 4.1,\\n      \"userRatingCount\": 21,\\n      \"displayName\": {\\n        \"text\": \"호산숯불갈비\",\\n \"languageCode\": \"ko\"\\n      }\\n    }\\n  ]\\n}\\n'"
   ]
  }
 ],
 "metadata": {
  "kernelspec": {
   "display_name": "langchain",
   "language": "python",
   "name": "python3"
  },
  "language_info": {
   "codemirror_mode": {
    "name": "ipython",
    "version": 3
   },
   "file_extension": ".py",
   "mimetype": "text/x-python",
   "name": "python",
   "nbconvert_exporter": "python",
   "pygments_lexer": "ipython3",
   "version": "3.11.5"
  }
 },
 "nbformat": 4,
 "nbformat_minor": 2
}
